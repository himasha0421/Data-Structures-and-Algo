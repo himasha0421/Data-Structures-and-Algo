{
 "cells": [
  {
   "cell_type": "markdown",
   "metadata": {},
   "source": [
    "```\n",
    "Roman numerals are represented by seven different symbols: I, V, X, L, C, D and M.\n",
    "\n",
    "Symbol       Value\n",
    "I             1\n",
    "V             5\n",
    "X             10\n",
    "L             50\n",
    "C             100\n",
    "D             500\n",
    "M             1000\n",
    "For example, 2 is written as II in Roman numeral, just two one's added together. 12 is written as XII, which is simply X + II. The number 27 is written as XXVII, which is XX + V + II.\n",
    "\n",
    "Roman numerals are usually written largest to smallest from left to right. However, the numeral for four is not IIII. Instead, the number four is written as IV. Because the one is before the five we subtract it making four. The same principle applies to the number nine, which is written as IX. There are six instances where subtraction is used:\n",
    "\n",
    "I can be placed before V (5) and X (10) to make 4 and 9. \n",
    "X can be placed before L (50) and C (100) to make 40 and 90. \n",
    "C can be placed before D (500) and M (1000) to make 400 and 900.\n",
    "Given an integer, convert it to a roman numeral.\n",
    "\n",
    " \n",
    "\n",
    "Example 1:\n",
    "\n",
    "Input: num = 3\n",
    "Output: \"III\"\n",
    "Explanation: 3 is represented as 3 ones.\n",
    "Example 2:\n",
    "\n",
    "Input: num = 58\n",
    "Output: \"LVIII\"\n",
    "Explanation: L = 50, V = 5, III = 3.\n",
    "Example 3:\n",
    "\n",
    "Input: num = 1994\n",
    "Output: \"MCMXCIV\"\n",
    "Explanation: M = 1000, CM = 900, XC = 90 and IV = 4.\n",
    " \n",
    "\n",
    "Constraints:\n",
    "\n",
    "1 <= num <= 3999\n",
    "```"
   ]
  },
  {
   "cell_type": "code",
   "execution_count": 1,
   "metadata": {},
   "outputs": [],
   "source": [
    "def romanToInt(s: int) -> str:\n",
    "\n",
    "    \"\"\"\n",
    "    step 1. sorted list ( 1,5,10,50,100,500,1000 ) ( get a subset of list which <traget )\n",
    "    step 2. pop final element from sub set iteratively\n",
    "    step 3. define a dict which map key as number & value as symbol\n",
    "    step 4. check condition on 6 instances \n",
    "    step 5. make the equation like ( number + 1 ) --> map    1 --> map\n",
    "\n",
    "    \"\"\"\n",
    "    sorted_list , corner_cases = [ 1,5,10,50,100,500,1000 ] , [ 4,9,40,90,400,900 ]\n",
    "    full_set = sorted( sorted_list + corner_cases )\n",
    "    sorted_index_map = { val : index   for index , val in enumerate(sorted_list) }\n",
    "    symbol_map = {\n",
    "        1 : 'I',\n",
    "        5 : 'V',\n",
    "        10 : 'X',\n",
    "        50 : 'L',\n",
    "        100 : 'C',\n",
    "        500 : 'D',\n",
    "        1000 : 'M'\n",
    "    }\n",
    "    dividers = []\n",
    "    roman = ''\n",
    "    \n",
    "    while (s != 0) :\n",
    "        max_diff , val_selected  = 4000 , None\n",
    "        for index , val in enumerate( full_set ):\n",
    "            diff = s - val \n",
    "            if( ( diff < max_diff ) and ( diff >=0 ) ):\n",
    "                max_diff = diff \n",
    "                val_selected = val\n",
    "\n",
    "        print(val_selected,s)\n",
    "\n",
    "        # val selected is the closest  value to the given set\n",
    "        if( val_selected in corner_cases ):\n",
    "            for j in sorted_list :\n",
    "                if( j > val_selected ):\n",
    "                    roman += symbol_map[j-val_selected]+symbol_map[j]\n",
    "                    s = s - val_selected\n",
    "                    break\n",
    "        else:\n",
    "            s , multiplier = s % val_selected  , s // val_selected\n",
    "            roman += multiplier * symbol_map[val_selected]\n",
    "\n",
    "    return roman"
   ]
  },
  {
   "cell_type": "code",
   "execution_count": 2,
   "metadata": {},
   "outputs": [
    {
     "name": "stdout",
     "output_type": "stream",
     "text": [
      "40 49\n",
      "9 9\n"
     ]
    },
    {
     "data": {
      "text/plain": [
       "'XLIX'"
      ]
     },
     "execution_count": 2,
     "metadata": {},
     "output_type": "execute_result"
    }
   ],
   "source": [
    "romanToInt(s=49)"
   ]
  },
  {
   "cell_type": "code",
   "execution_count": null,
   "metadata": {},
   "outputs": [],
   "source": []
  }
 ],
 "metadata": {
  "kernelspec": {
   "display_name": "base",
   "language": "python",
   "name": "python3"
  },
  "language_info": {
   "codemirror_mode": {
    "name": "ipython",
    "version": 3
   },
   "file_extension": ".py",
   "mimetype": "text/x-python",
   "name": "python",
   "nbconvert_exporter": "python",
   "pygments_lexer": "ipython3",
   "version": "3.11.5"
  }
 },
 "nbformat": 4,
 "nbformat_minor": 2
}
