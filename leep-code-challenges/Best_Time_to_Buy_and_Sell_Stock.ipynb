{
 "cells": [
  {
   "cell_type": "markdown",
   "metadata": {},
   "source": [
    "## Best Time to Buy and Sell Stock"
   ]
  },
  {
   "cell_type": "markdown",
   "metadata": {},
   "source": [
    "* method : find the minimum point in time to buy stocks , also increment sell point after the buy point"
   ]
  },
  {
   "cell_type": "code",
   "execution_count": null,
   "metadata": {},
   "outputs": [],
   "source": [
    "class Solution(object):\n",
    "    def maxProfit(self, prices):\n",
    "        \"\"\"\n",
    "        :type prices: List[int]\n",
    "        :rtype: int\n",
    "        \"\"\"\n",
    "        maxProfit = 0\n",
    "        buy = prices[0]\n",
    "\n",
    "        for sell in prices[1:]:\n",
    "            if( sell >= buy ):\n",
    "                maxProfit = max( maxProfit , sell - buy )\n",
    "            else:\n",
    "                buy = sell\n",
    "        return maxProfit"
   ]
  }
 ],
 "metadata": {
  "language_info": {
   "name": "python"
  }
 },
 "nbformat": 4,
 "nbformat_minor": 2
}
