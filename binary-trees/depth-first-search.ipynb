{
 "cells": [
  {
   "cell_type": "code",
   "execution_count": 3,
   "metadata": {},
   "outputs": [],
   "source": [
    "class Node:\n",
    "  def __init__(self, val):\n",
    "    self.val = val\n",
    "    self.left = None\n",
    "    self.right = None"
   ]
  },
  {
   "cell_type": "code",
   "execution_count": 4,
   "metadata": {},
   "outputs": [],
   "source": [
    "def depth_first_values(root):\n",
    "  \"\"\"\n",
    "  depth first search same as first come last out \n",
    "  stack to keep track of nodes ( array + latest element index)\n",
    "  array to keep the completed nodes ( condition left/right nodes null)\n",
    "  \"\"\"\n",
    "  \n",
    "  stack , stack_index =[] ,0\n",
    "  visited_nodes = []\n",
    "  \n",
    "  # add initial root node into the stack \n",
    "  if root is not None :\n",
    "    stack.append( root )\n",
    "\n",
    "    while len(stack) != 0:\n",
    "      selected_node = stack[stack_index]\n",
    "      del stack[stack_index]\n",
    "      stack_index -= 1\n",
    "\n",
    "      # evalute the selected_node left/right chidren\n",
    "      # right node\n",
    "      if( selected_node.right is not None ):\n",
    "        stack.append( selected_node.right )\n",
    "        stack_index += 1\n",
    "      # left node\n",
    "      if( selected_node.left is not None ):\n",
    "        stack.append( selected_node.left )\n",
    "        stack_index += 1\n",
    "\n",
    "      # add the selected_node value to final array \n",
    "      visited_nodes.append( selected_node.val )\n",
    "      \n",
    "  return visited_nodes"
   ]
  },
  {
   "cell_type": "code",
   "execution_count": 5,
   "metadata": {},
   "outputs": [
    {
     "data": {
      "text/plain": [
       "['a', 'b', 'd', 'e', 'c', 'f']"
      ]
     },
     "execution_count": 5,
     "metadata": {},
     "output_type": "execute_result"
    }
   ],
   "source": [
    "# function check\n",
    "\n",
    "a = Node('a')\n",
    "b = Node('b')\n",
    "c = Node('c')\n",
    "d = Node('d')\n",
    "e = Node('e')\n",
    "f = Node('f')        \n",
    "a.left = b\n",
    "a.right = c\n",
    "b.left = d\n",
    "b.right = e\n",
    "c.right = f\n",
    "\n",
    "#      a\n",
    "#    /   \\\n",
    "#   b     c\n",
    "#  / \\     \\\n",
    "# d   e     f\n",
    "\n",
    "depth_first_values(a)"
   ]
  },
  {
   "cell_type": "code",
   "execution_count": null,
   "metadata": {},
   "outputs": [],
   "source": [
    "def depth_first_values(root):\n",
    "  \"\"\"\n",
    "  depth first search same as first come last out \n",
    "  stack to keep track of nodes ( array + latest element index)\n",
    "  array to keep the completed nodes ( condition left/right nodes null)\n",
    "  \"\"\"\n",
    "  \n",
    "  visited_nodes = [] \n",
    "  \n",
    "  if(root is None): return []\n",
    "  \n",
    "  left_nodes = depth_first_values(root.left)\n",
    "  right_nodes = depth_first_values(root.right)\n",
    "\n",
    "  return [root.val] + left_nodes + right_nodes"
   ]
  },
  {
   "cell_type": "code",
   "execution_count": 6,
   "metadata": {},
   "outputs": [
    {
     "data": {
      "text/plain": [
       "['a', 'b', 'd', 'e', 'c', 'f']"
      ]
     },
     "execution_count": 6,
     "metadata": {},
     "output_type": "execute_result"
    }
   ],
   "source": [
    "depth_first_values(a)"
   ]
  },
  {
   "cell_type": "code",
   "execution_count": null,
   "metadata": {},
   "outputs": [],
   "source": []
  }
 ],
 "metadata": {
  "kernelspec": {
   "display_name": "base",
   "language": "python",
   "name": "python3"
  },
  "language_info": {
   "codemirror_mode": {
    "name": "ipython",
    "version": 3
   },
   "file_extension": ".py",
   "mimetype": "text/x-python",
   "name": "python",
   "nbconvert_exporter": "python",
   "pygments_lexer": "ipython3",
   "version": "3.11.5"
  }
 },
 "nbformat": 4,
 "nbformat_minor": 2
}
