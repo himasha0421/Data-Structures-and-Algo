{
 "cells": [
  {
   "cell_type": "code",
   "execution_count": 2,
   "metadata": {},
   "outputs": [],
   "source": [
    "class Node:\n",
    "  def __init__(self, val):\n",
    "    self.val = val\n",
    "    self.left = None\n",
    "    self.right = None\n",
    "\n",
    "def breadth_first_values(root):\n",
    "  \"\"\"\n",
    "  first condition if root is null return []\n",
    "  use deque data stucture to keep track of nodes |  deque\n",
    "  ||| deque implement with array ( pop | insert ) methods\n",
    "  result set push into array\n",
    "  \"\"\"\n",
    "  \n",
    "  if (root is None): return []\n",
    "  \n",
    "  else:\n",
    "    deque = [root] \n",
    "    result_set = []\n",
    "    \n",
    "    while(len(deque) != 0):\n",
    "      \n",
    "      selected_node = deque.pop()\n",
    "      \n",
    "      if( selected_node.left is not None ):\n",
    "        deque.insert( 0 , selected_node.left )\n",
    "      if( selected_node.right is not None):\n",
    "        deque.insert( 0 , selected_node.right ) \n",
    "        \n",
    "      result_set.append( selected_node.val )\n",
    "      \n",
    "    return result_set\n",
    "    \n",
    "  \n"
   ]
  },
  {
   "cell_type": "code",
   "execution_count": 3,
   "metadata": {},
   "outputs": [
    {
     "data": {
      "text/plain": [
       "['a', 'b', 'c', 'd', 'e', 'f']"
      ]
     },
     "execution_count": 3,
     "metadata": {},
     "output_type": "execute_result"
    }
   ],
   "source": [
    "# function check\n",
    "\n",
    "a = Node('a')\n",
    "b = Node('b')\n",
    "c = Node('c')\n",
    "d = Node('d')\n",
    "e = Node('e')\n",
    "f = Node('f')        \n",
    "a.left = b\n",
    "a.right = c\n",
    "b.left = d\n",
    "b.right = e\n",
    "c.right = f\n",
    "\n",
    "#      a\n",
    "#    /   \\\n",
    "#   b     c\n",
    "#  / \\     \\\n",
    "# d   e     f\n",
    "\n",
    "breadth_first_values(a)"
   ]
  },
  {
   "cell_type": "code",
   "execution_count": null,
   "metadata": {},
   "outputs": [],
   "source": []
  }
 ],
 "metadata": {
  "kernelspec": {
   "display_name": "base",
   "language": "python",
   "name": "python3"
  },
  "language_info": {
   "codemirror_mode": {
    "name": "ipython",
    "version": 3
   },
   "file_extension": ".py",
   "mimetype": "text/x-python",
   "name": "python",
   "nbconvert_exporter": "python",
   "pygments_lexer": "ipython3",
   "version": "3.11.5"
  }
 },
 "nbformat": 4,
 "nbformat_minor": 2
}
