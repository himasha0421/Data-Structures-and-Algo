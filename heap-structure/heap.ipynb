{
 "cells": [
  {
   "cell_type": "code",
   "execution_count": 49,
   "metadata": {},
   "outputs": [],
   "source": [
    "## implementation of heap\n",
    "import numpy as np\n",
    "\n",
    "class Heap:\n",
    "    \"\"\"\n",
    "    class containes multiple methods\n",
    "    sink: downgrade a node until it matches the priority\n",
    "    swim: promote up a node until it matches priority  \n",
    "    insert: insert new element to the heap\n",
    "    delete maximum: remove maximum priority element\n",
    "    build_heap: build the heap from the input object list\n",
    "\n",
    "    constraints: \n",
    "        underflow: error when remove from empty PQ\n",
    "        overflow: resising \n",
    "    \"\"\"\n",
    "    def __init__(self, array ) -> None:\n",
    "\n",
    "        self.heap = [None] + array \n",
    "        self.N = len(array)  # n.of nodes\n",
    "        self.heap_order()\n",
    "\n",
    "    def heap_order(self):\n",
    "        \"\"\"\n",
    "        generate heap orderded array from input\n",
    "        \"\"\"\n",
    "        # first neglect the bottom stage which 1 heap nodes start from 3 heap nodes\n",
    "        for k in range( int(np.floor(self.N/2)), 0 , -1):\n",
    "            self.sink(k=k)\n",
    "\n",
    "    def sink(self,k):\n",
    "        \"\"\"\n",
    "        downgrade the k th element until priority preserve\n",
    "\n",
    "        Args:\n",
    "            k (_type_): element index\n",
    "        \"\"\"\n",
    "        while 2*k <= self.N :\n",
    "            # get the left node index\n",
    "            j = 2*k\n",
    "            if( ( j < self.N ) & (self.less( l_index=j , r_index=j+1 )) ):\n",
    "                j += 1 \n",
    "            if( not self.less( l_index=k , r_index=j )  ):\n",
    "                break\n",
    "\n",
    "            # do element exchange\n",
    "            self.exchange(child_indx=j , parent_indx=k)\n",
    "\n",
    "            # do assignment\n",
    "            k = j \n",
    "\n",
    "    def swim(self, k):\n",
    "        \"\"\"\n",
    "        upgrade the k th element until priority preserve\n",
    "\n",
    "        Args:\n",
    "            k (_type_): index of the element\n",
    "        \"\"\"\n",
    "        # reach top of the tree while keeping the heap properties\n",
    "        while ( (k >= 1) & self.less( int(np.floor(k/2)) , k  ) ):\n",
    "            self.exchange(child_indx=k , parent_indx= int(np.floor(k/2)))\n",
    "            k = np.floor(k/2)\n",
    "\n",
    "    def insert(self,obj):\n",
    "        \"\"\"\n",
    "        add new element to the heap\n",
    "\n",
    "        Args:\n",
    "            obj (_type_): new object\n",
    "        \"\"\"\n",
    "        self.N += 1\n",
    "        self.heap.append(obj)\n",
    "\n",
    "        # apply swim operation \n",
    "        self.swim(k=self.N)\n",
    "\n",
    "    def dequeue(self):\n",
    "        \"\"\"\n",
    "        remove the priority element from heap\n",
    "        \"\"\"\n",
    "        # first swap the top priority element and last element\n",
    "        self.exchange(child_indx=self.N , parent_indx= 1)\n",
    "\n",
    "        # remove the heap last element\n",
    "        result = self.heap[self.N]\n",
    "        del self.heap[self.N]\n",
    "        self.N -= 1\n",
    "\n",
    "        # sink the top node\n",
    "        self.sink(k=1)\n",
    "\n",
    "        return result\n",
    "\n",
    "\n",
    "    def less(self, l_index, r_index):\n",
    "        \"\"\"\n",
    "        compare two objects from the heap\n",
    "\n",
    "        Args:\n",
    "            l_index (_type_): chil index\n",
    "            r_index (_type_): parent index\n",
    "\n",
    "        Returns:\n",
    "            _type_: bool parameter\n",
    "        \"\"\"\n",
    "        if( r_index > self.N ): return False \n",
    "\n",
    "        if( self.heap[l_index] < self.heap[r_index]  ):\n",
    "            return True\n",
    "        else: return False\n",
    "\n",
    "    def exchange(self, child_indx , parent_indx):\n",
    "        \"\"\"\n",
    "        exchange two elements\n",
    "\n",
    "        Args:\n",
    "            child_indx (_type_): child index\n",
    "            parent_indx (_type_): parent object index\n",
    "        \"\"\"\n",
    "        \n",
    "        temp = self.heap[child_indx]\n",
    "        self.heap[child_indx] = self.heap[parent_indx]\n",
    "        self.heap[parent_indx] = temp\n",
    "\n"
   ]
  },
  {
   "cell_type": "code",
   "execution_count": 50,
   "metadata": {},
   "outputs": [],
   "source": [
    "array = [1,1,20,5,99,81,31,1,1,2,8] \n",
    "\n",
    "heap = Heap(array=array)"
   ]
  },
  {
   "cell_type": "code",
   "execution_count": 51,
   "metadata": {},
   "outputs": [
    {
     "data": {
      "text/plain": [
       "[None, 99, 8, 81, 5, 2, 20, 31, 1, 1, 1, 1]"
      ]
     },
     "execution_count": 51,
     "metadata": {},
     "output_type": "execute_result"
    }
   ],
   "source": [
    "heap.heap"
   ]
  },
  {
   "cell_type": "code",
   "execution_count": 52,
   "metadata": {},
   "outputs": [],
   "source": [
    "heap.insert(10)"
   ]
  },
  {
   "cell_type": "code",
   "execution_count": 53,
   "metadata": {},
   "outputs": [
    {
     "data": {
      "text/plain": [
       "[None, 99, 8, 81, 5, 2, 20, 31, 1, 1, 1, 1, 10]"
      ]
     },
     "execution_count": 53,
     "metadata": {},
     "output_type": "execute_result"
    }
   ],
   "source": [
    "heap.heap"
   ]
  },
  {
   "cell_type": "code",
   "execution_count": 54,
   "metadata": {},
   "outputs": [],
   "source": [
    "class HeapSort(Heap):\n",
    "    \n",
    "    def __init__(self, array) -> None:\n",
    "        super().__init__(array)\n",
    "\n",
    "    def sort(self):\n",
    "        \n",
    "        sorted_array = []\n",
    "        # do dequeue until evenry element fetch\n",
    "        for iter in range(1,self.N) :\n",
    "            sorted_array.append( self.dequeue() )\n",
    "\n",
    "        return sorted_array\n"
   ]
  },
  {
   "cell_type": "code",
   "execution_count": 55,
   "metadata": {},
   "outputs": [],
   "source": [
    "heap_sort = HeapSort(array=array)"
   ]
  },
  {
   "cell_type": "code",
   "execution_count": 56,
   "metadata": {},
   "outputs": [
    {
     "data": {
      "text/plain": [
       "[None, 99, 8, 81, 5, 2, 20, 31, 1, 1, 1, 1]"
      ]
     },
     "execution_count": 56,
     "metadata": {},
     "output_type": "execute_result"
    }
   ],
   "source": [
    "heap_sort.heap"
   ]
  },
  {
   "cell_type": "code",
   "execution_count": 57,
   "metadata": {},
   "outputs": [
    {
     "name": "stdout",
     "output_type": "stream",
     "text": [
      "Unsorted array  [None, 99, 8, 81, 5, 2, 20, 31, 1, 1, 1, 1]\n",
      "Sorted list :  [99, 81, 31, 20, 8, 5, 2, 1, 1, 1]\n"
     ]
    }
   ],
   "source": [
    "print(\"Unsorted array \", heap_sort.heap)\n",
    "print(\"Sorted list : \", heap_sort.sort())"
   ]
  },
  {
   "cell_type": "code",
   "execution_count": null,
   "metadata": {},
   "outputs": [],
   "source": []
  }
 ],
 "metadata": {
  "kernelspec": {
   "display_name": "kafka_dev",
   "language": "python",
   "name": "python3"
  },
  "language_info": {
   "codemirror_mode": {
    "name": "ipython",
    "version": 3
   },
   "file_extension": ".py",
   "mimetype": "text/x-python",
   "name": "python",
   "nbconvert_exporter": "python",
   "pygments_lexer": "ipython3",
   "version": "3.8.18"
  }
 },
 "nbformat": 4,
 "nbformat_minor": 2
}
