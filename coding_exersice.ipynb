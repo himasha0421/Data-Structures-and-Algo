{
 "cells": [
  {
   "cell_type": "code",
   "execution_count": 21,
   "id": "c5e60755-3728-439c-a664-ed81f3b85cf5",
   "metadata": {
    "tags": []
   },
   "outputs": [
    {
     "name": "stdout",
     "output_type": "stream",
     "text": [
      "[10]\n"
     ]
    }
   ],
   "source": [
    "def retrive_page(dblist , pivotid , pagesize , pagenumber):\n",
    "\t\n",
    "    index = dblist.index(pivotid)     \t# 4\n",
    "    # intialize the pointers and hop\n",
    "    hop = pagenumber*pagesize\t\t \t# 0\n",
    "    pointer_1 = index + hop        \t \t# 4\n",
    "    pointer_2 = index + hop + pagesize \t# 6\n",
    "    maxlen = len(dblist)\t\t\t\t# 167\n",
    "\n",
    "    # check pointer conditions\n",
    "    if( pointer_1 > maxlen ) :\n",
    "        pointer_1 = pointer_1 - maxlen\n",
    "        if( ( pointer_1 >= index ) ):\n",
    "            return []\n",
    "    if(pointer_2 > maxlen ):\n",
    "        pointer_2 = pointer_2 - maxlen\n",
    "        if( (pointer_2 > index )):\n",
    "            return dblist[ pointer_1 : index ]\n",
    "\n",
    "\t# return pages\n",
    "    if pointer_2 > pointer_1 :\n",
    "        return dblist[ pointer_1 : pointer_2 ] \n",
    "    else:\n",
    "        return dblist[pointer_1:] + dblist[:pointer_2] \n",
    "    \n",
    "if __name__ == '__main__':\n",
    "    dblist = [23,45, 34,5,6,7,8,10,21]\n",
    "    pivotid = 21\n",
    "    pagesize = 4\n",
    "    pagenumber = 2\n",
    "\n",
    "    print(retrive_page( dblist= dblist , \n",
    "                       pivotid= pivotid ,\n",
    "                       pagesize= pagesize ,\n",
    "                       pagenumber= pagenumber\n",
    "                        ))"
   ]
  },
  {
   "cell_type": "code",
   "execution_count": null,
   "id": "9d74356e-bad7-4ff6-84b8-070d609a833a",
   "metadata": {},
   "outputs": [],
   "source": []
  }
 ],
 "metadata": {
  "kernelspec": {
   "display_name": "Python 3 (ipykernel)",
   "language": "python",
   "name": "python3"
  },
  "language_info": {
   "codemirror_mode": {
    "name": "ipython",
    "version": 3
   },
   "file_extension": ".py",
   "mimetype": "text/x-python",
   "name": "python",
   "nbconvert_exporter": "python",
   "pygments_lexer": "ipython3",
   "version": "3.11.5"
  }
 },
 "nbformat": 4,
 "nbformat_minor": 5
}
