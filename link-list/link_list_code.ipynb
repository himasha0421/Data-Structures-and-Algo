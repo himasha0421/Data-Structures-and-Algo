{
 "cells": [
  {
   "cell_type": "code",
   "execution_count": 96,
   "id": "b1c9f1c5-fef5-4c74-8d87-6c70a9954fcf",
   "metadata": {},
   "outputs": [],
   "source": [
    "# implementation of linked list in python \n",
    "\"\"\"\n",
    "two type data objects\n",
    "    1. nodes contain data & pointer\n",
    "    2. linlist object connect nodes together\n",
    "\"\"\"\n",
    "\n",
    "class Node(object):\n",
    "    def __init__(self , key: int ) -> None:\n",
    "        self.key = key \n",
    "        self.next = None\n",
    "\n",
    "# define the linkedlist\n",
    "class linkList(object):\n",
    "    def __init__(self) -> None:\n",
    "        #define head/tail\n",
    "        self.head=  None \n",
    "        self.tail = None \n",
    "        self.index = 0\n",
    "\n",
    "    def insert(self,key): # pushback\n",
    "        # initiate the node \n",
    "        temp_node =  Node(key= key )\n",
    "\n",
    "        if ( ( self.head is None ) & ( self.tail is None) ) :\n",
    "            self.head = temp_node\n",
    "            self.tail = temp_node\n",
    "\n",
    "        else :\n",
    "            self.tail.next = temp_node \n",
    "            self.tail = temp_node\n",
    "\n",
    "    def push_after(self, push_key , node_key):\n",
    "\n",
    "        # check if the index is 0 (push front O(1) ) or -1 ( push back O(1) )\n",
    "        head_ref = self.head\n",
    "\n",
    "        # if self.head / self.tail is empty means no elements then insert it to the list\n",
    "        if( ( self.head is None ) or ( self.tail is None ) ) :\n",
    "            self.insert( key= node_key )\n",
    "            return\n",
    "        \n",
    "        # create new node\n",
    "        temp_node = Node(key= node_key )\n",
    "\n",
    "        if( self.head.key == push_key ):\n",
    "            # push front complexity : O(1)\n",
    "            temp_node.next = self.head \n",
    "            self.head=  temp_node\n",
    "            return\n",
    "\n",
    "        elif( self.tail.key == push_key ) :\n",
    "            # push back complexity : O(1)\n",
    "            self.insert( key= node_key )\n",
    "            return\n",
    "        \n",
    "        else :\n",
    "            # other inedx pushes n  complexity : O(n)\n",
    "            while head_ref is not None :\n",
    "                if( head_ref.key == push_key ):\n",
    "                    temp_node.next = head_ref.next \n",
    "                    head_ref.next = temp_node\n",
    "                    break\n",
    "\n",
    "                head_ref = head_ref.next\n",
    "\n",
    "    def pop( self , pop_key ) :\n",
    "\n",
    "        head_ref= self.head\n",
    "\n",
    "        # if linklist is empty then retrun nothing\n",
    "        if( ( self.head is None ) or ( self.tail is None ) ) :\n",
    "            return     \n",
    "\n",
    "        # pop element from begining complexcity O(1) / but array O(n)\n",
    "        if( self.head.key == pop_key ):\n",
    "            self.head = self.head.next     \n",
    "\n",
    "        \n",
    "        while ( head_ref.next.key != pop_key ) :\n",
    "            head_ref = head_ref.next \n",
    "\n",
    "        # assign the select pop node\n",
    "        pop_node = head_ref.next\n",
    "\n",
    "        if( self.tail.key == pop_key ):\n",
    "            # reset next pointer\n",
    "            head_ref.next = None\n",
    "            self.tail = head_ref\n",
    "        else:\n",
    "            head_ref.next = head_ref.next.next\n",
    "\n",
    "        return pop_node\n",
    "        \n",
    "\n",
    "\n",
    "            \n",
    "\n",
    "    def __print__(self):\n",
    "        head_ref = self.head\n",
    "        while head_ref is not None :\n",
    "            print( head_ref.__dict__ )\n",
    "            head_ref = head_ref.next\n",
    "\n"
   ]
  },
  {
   "cell_type": "code",
   "execution_count": 97,
   "id": "50f5325e",
   "metadata": {},
   "outputs": [],
   "source": [
    "con_list = linkList()"
   ]
  },
  {
   "cell_type": "code",
   "execution_count": 98,
   "id": "e0092508",
   "metadata": {},
   "outputs": [],
   "source": [
    "con_list.insert(10)\n",
    "con_list.insert(20)"
   ]
  },
  {
   "cell_type": "code",
   "execution_count": 99,
   "id": "c94567bb",
   "metadata": {},
   "outputs": [
    {
     "name": "stdout",
     "output_type": "stream",
     "text": [
      "{'key': 10, 'next': <__main__.Node object at 0x00000229FC95EF90>}\n",
      "{'key': 20, 'next': None}\n"
     ]
    }
   ],
   "source": [
    "con_list.__print__()"
   ]
  },
  {
   "cell_type": "code",
   "execution_count": 100,
   "id": "c6c04a4b",
   "metadata": {},
   "outputs": [
    {
     "data": {
      "text/plain": [
       "{'key': 10, 'next': <__main__.Node at 0x229fc95ef90>}"
      ]
     },
     "execution_count": 100,
     "metadata": {},
     "output_type": "execute_result"
    }
   ],
   "source": [
    "con_list.head.__dict__"
   ]
  },
  {
   "cell_type": "code",
   "execution_count": 101,
   "id": "0c39360d",
   "metadata": {},
   "outputs": [
    {
     "data": {
      "text/plain": [
       "{'key': 20, 'next': None}"
      ]
     },
     "execution_count": 101,
     "metadata": {},
     "output_type": "execute_result"
    }
   ],
   "source": [
    "con_list.tail.__dict__"
   ]
  },
  {
   "cell_type": "code",
   "execution_count": 102,
   "id": "585fb5be",
   "metadata": {},
   "outputs": [],
   "source": [
    "con_list.push_after( push_key= 20 , node_key=45  )"
   ]
  },
  {
   "cell_type": "code",
   "execution_count": 103,
   "id": "9c66ce77",
   "metadata": {},
   "outputs": [
    {
     "name": "stdout",
     "output_type": "stream",
     "text": [
      "{'key': 10, 'next': <__main__.Node object at 0x00000229FC95EF90>}\n",
      "{'key': 20, 'next': <__main__.Node object at 0x00000229FC936F90>}\n",
      "{'key': 45, 'next': None}\n"
     ]
    }
   ],
   "source": [
    "con_list.__print__()"
   ]
  },
  {
   "cell_type": "code",
   "execution_count": 104,
   "id": "ffb94d7e",
   "metadata": {},
   "outputs": [],
   "source": [
    "con_list.push_after( push_key= 20 , node_key=95  )"
   ]
  },
  {
   "cell_type": "code",
   "execution_count": 105,
   "id": "067d6d04",
   "metadata": {},
   "outputs": [
    {
     "name": "stdout",
     "output_type": "stream",
     "text": [
      "{'key': 10, 'next': <__main__.Node object at 0x00000229FC95EF90>}\n",
      "{'key': 20, 'next': <__main__.Node object at 0x00000229FCE4D8D0>}\n",
      "{'key': 95, 'next': <__main__.Node object at 0x00000229FC936F90>}\n",
      "{'key': 45, 'next': None}\n"
     ]
    }
   ],
   "source": [
    "con_list.__print__()"
   ]
  },
  {
   "cell_type": "code",
   "execution_count": 106,
   "id": "230d8fd0",
   "metadata": {},
   "outputs": [
    {
     "data": {
      "text/plain": [
       "({'key': 10, 'next': <__main__.Node at 0x229fc95ef90>},\n",
       " {'key': 45, 'next': None})"
      ]
     },
     "execution_count": 106,
     "metadata": {},
     "output_type": "execute_result"
    }
   ],
   "source": [
    "con_list.head.__dict__ , con_list.tail.__dict__"
   ]
  },
  {
   "cell_type": "code",
   "execution_count": 107,
   "id": "1c3e6d3b",
   "metadata": {},
   "outputs": [],
   "source": [
    "con_list.push_after(push_key=10 , node_key= 160246 )"
   ]
  },
  {
   "cell_type": "code",
   "execution_count": 108,
   "id": "01103bcb",
   "metadata": {},
   "outputs": [
    {
     "name": "stdout",
     "output_type": "stream",
     "text": [
      "{'key': 160246, 'next': <__main__.Node object at 0x00000229FD5D8690>}\n",
      "{'key': 10, 'next': <__main__.Node object at 0x00000229FC95EF90>}\n",
      "{'key': 20, 'next': <__main__.Node object at 0x00000229FCE4D8D0>}\n",
      "{'key': 95, 'next': <__main__.Node object at 0x00000229FC936F90>}\n",
      "{'key': 45, 'next': None}\n"
     ]
    },
    {
     "data": {
      "text/plain": [
       "({'key': 160246, 'next': <__main__.Node at 0x229fd5d8690>},\n",
       " {'key': 45, 'next': None})"
      ]
     },
     "execution_count": 108,
     "metadata": {},
     "output_type": "execute_result"
    }
   ],
   "source": [
    "con_list.__print__()\n",
    "con_list.head.__dict__ , con_list.tail.__dict__"
   ]
  },
  {
   "cell_type": "code",
   "execution_count": 109,
   "id": "b66c10a2",
   "metadata": {},
   "outputs": [
    {
     "name": "stdout",
     "output_type": "stream",
     "text": [
      "{'key': 95, 'next': <__main__.Node object at 0x00000229FC936F90>}\n",
      "{'key': 160246, 'next': <__main__.Node object at 0x00000229FD5D8690>}\n",
      "{'key': 10, 'next': <__main__.Node object at 0x00000229FC95EF90>}\n",
      "{'key': 20, 'next': <__main__.Node object at 0x00000229FC936F90>}\n",
      "{'key': 45, 'next': None}\n"
     ]
    },
    {
     "data": {
      "text/plain": [
       "({'key': 160246, 'next': <__main__.Node at 0x229fd5d8690>},\n",
       " {'key': 45, 'next': None})"
      ]
     },
     "execution_count": 109,
     "metadata": {},
     "output_type": "execute_result"
    }
   ],
   "source": [
    "print( con_list.pop( pop_key= 95 ).__dict__ )\n",
    "con_list.__print__()\n",
    "con_list.head.__dict__ , con_list.tail.__dict__"
   ]
  },
  {
   "cell_type": "code",
   "execution_count": 110,
   "id": "10437f59",
   "metadata": {},
   "outputs": [
    {
     "name": "stdout",
     "output_type": "stream",
     "text": [
      "{'key': 45, 'next': None}\n",
      "{'key': 160246, 'next': <__main__.Node object at 0x00000229FD5D8690>}\n",
      "{'key': 10, 'next': <__main__.Node object at 0x00000229FC95EF90>}\n",
      "{'key': 20, 'next': None}\n"
     ]
    },
    {
     "data": {
      "text/plain": [
       "({'key': 160246, 'next': <__main__.Node at 0x229fd5d8690>},\n",
       " {'key': 20, 'next': None})"
      ]
     },
     "execution_count": 110,
     "metadata": {},
     "output_type": "execute_result"
    }
   ],
   "source": [
    "print( con_list.pop( pop_key= 45 ).__dict__ )\n",
    "con_list.__print__()\n",
    "con_list.head.__dict__ , con_list.tail.__dict__"
   ]
  },
  {
   "cell_type": "code",
   "execution_count": null,
   "id": "27010d2b",
   "metadata": {},
   "outputs": [],
   "source": []
  }
 ],
 "metadata": {
  "kernelspec": {
   "display_name": "Python 3 (ipykernel)",
   "language": "python",
   "name": "python3"
  },
  "language_info": {
   "codemirror_mode": {
    "name": "ipython",
    "version": 3
   },
   "file_extension": ".py",
   "mimetype": "text/x-python",
   "name": "python",
   "nbconvert_exporter": "python",
   "pygments_lexer": "ipython3",
   "version": "3.11.5"
  }
 },
 "nbformat": 4,
 "nbformat_minor": 5
}
