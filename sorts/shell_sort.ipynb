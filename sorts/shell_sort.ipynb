{
 "cells": [
  {
   "cell_type": "markdown",
   "metadata": {},
   "source": [
    "### time complexity O(n^3/2) "
   ]
  },
  {
   "cell_type": "code",
   "execution_count": 36,
   "metadata": {},
   "outputs": [],
   "source": [
    "def shell_sort(array):\n",
    "\n",
    "    \"\"\"\n",
    "    flow :\n",
    "        increment 3x+1 till k sort value goes N/3\n",
    "        for each k sort value :\n",
    "            loop 1 -->    i -> h , ++\n",
    "            loop 2 -->    j=h , --h\n",
    "                    swap\n",
    "            h --> h/3\n",
    "    \"\"\"\n",
    "    n = len(array)\n",
    "    h= 1\n",
    "    while h < (n/3) : h = 3*h+1\n",
    "    while h >= 1 :\n",
    "        for i in range( h , n , +1 ):\n",
    "            # inner loop jump with h spaces\n",
    "            for j in range( i , -1 , -h ):\n",
    "                # important to add ( j-h >= 0 ) if not use minum values as reverse index values\n",
    "                if( ( array[j-h] > array[j]) and ( j-h >= 0 )  ):\n",
    "                    temp = array[j]\n",
    "                    array[j] = array[j-h]\n",
    "                    array[j-h] = temp \n",
    "        h = h//3\n",
    "    return array\n"
   ]
  },
  {
   "cell_type": "code",
   "execution_count": 37,
   "metadata": {},
   "outputs": [
    {
     "data": {
      "text/plain": [
       "[1, 1, 1, 2, 5, 8, 10, 20, 31, 81, 99]"
      ]
     },
     "execution_count": 37,
     "metadata": {},
     "output_type": "execute_result"
    }
   ],
   "source": [
    "shell_sort([1,10,20,5,99,81,31,1,1,2,8])"
   ]
  },
  {
   "cell_type": "code",
   "execution_count": null,
   "metadata": {},
   "outputs": [],
   "source": []
  }
 ],
 "metadata": {
  "kernelspec": {
   "display_name": "base",
   "language": "python",
   "name": "python3"
  },
  "language_info": {
   "codemirror_mode": {
    "name": "ipython",
    "version": 3
   },
   "file_extension": ".py",
   "mimetype": "text/x-python",
   "name": "python",
   "nbconvert_exporter": "python",
   "pygments_lexer": "ipython3",
   "version": "3.11.5"
  }
 },
 "nbformat": 4,
 "nbformat_minor": 2
}
