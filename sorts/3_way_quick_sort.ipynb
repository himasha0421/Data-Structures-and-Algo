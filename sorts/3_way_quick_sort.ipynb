{
 "cells": [
  {
   "cell_type": "markdown",
   "metadata": {},
   "source": [
    "#### one major drawback of the quicksort is that , is array contains more duplicate values , then quick sort tends to by quadratic"
   ]
  },
  {
   "cell_type": "code",
   "execution_count": 89,
   "metadata": {},
   "outputs": [],
   "source": [
    "def quick_sort_3way(obj,lp,hp):\n",
    "\n",
    "    if( lp > hp ): return\n",
    "\n",
    "    # define running variables\n",
    "    partition , lo , ho = lp , lp+1 , hp \n",
    "    while lo <= ho :\n",
    "        # step 1: comapre lo,partition element A[lo] < A[partition] then swap and increment\n",
    "        if( obj[lo] < obj[partition] ): \n",
    "            # swap parition key and value\n",
    "            temp = obj[partition]\n",
    "            obj[partition] = obj[lo]\n",
    "            obj[lo] = temp \n",
    "\n",
    "            # increment partition key and lo\n",
    "            partition += 1 \n",
    "            lo +=1 \n",
    "\n",
    "        elif( obj[lo] > obj[partition] ):\n",
    "            # swap the lo value with the ho \n",
    "            temp = obj[ho]\n",
    "            obj[ho] = obj[lo]\n",
    "            obj[lo] = temp \n",
    "\n",
    "            # decrement the ho\n",
    "            ho -= 1\n",
    "        \n",
    "        elif( obj[lo] == obj[partition] ):\n",
    "            # if the partition and lower bound element same , increment lo\n",
    "            lo += 1\n",
    "\n",
    "    # apply sort again \n",
    "    quick_sort_3way(obj , lp , partition-1)\n",
    "    quick_sort_3way(obj, lo , hp)\n",
    "\n",
    "    return obj"
   ]
  },
  {
   "cell_type": "code",
   "execution_count": 90,
   "metadata": {},
   "outputs": [],
   "source": [
    "sort_3way = [1,1,20,5,99,81,31,1,1,2,8]"
   ]
  },
  {
   "cell_type": "code",
   "execution_count": 91,
   "metadata": {},
   "outputs": [
    {
     "data": {
      "text/plain": [
       "[1, 1, 1, 1, 2, 5, 8, 20, 31, 81, 99]"
      ]
     },
     "execution_count": 91,
     "metadata": {},
     "output_type": "execute_result"
    }
   ],
   "source": [
    "quick_sort_3way(sort_3way, 0 , len(sort_3way)-1 )"
   ]
  },
  {
   "cell_type": "code",
   "execution_count": null,
   "metadata": {},
   "outputs": [],
   "source": []
  }
 ],
 "metadata": {
  "kernelspec": {
   "display_name": "kafka_dev",
   "language": "python",
   "name": "python3"
  },
  "language_info": {
   "codemirror_mode": {
    "name": "ipython",
    "version": 3
   },
   "file_extension": ".py",
   "mimetype": "text/x-python",
   "name": "python",
   "nbconvert_exporter": "python",
   "pygments_lexer": "ipython3",
   "version": "3.8.18"
  }
 },
 "nbformat": 4,
 "nbformat_minor": 2
}
