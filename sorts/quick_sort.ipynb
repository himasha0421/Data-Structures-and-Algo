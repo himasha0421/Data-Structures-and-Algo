{
 "cells": [
  {
   "cell_type": "markdown",
   "metadata": {},
   "source": [
    "### basic quick sort"
   ]
  },
  {
   "cell_type": "code",
   "execution_count": 253,
   "metadata": {},
   "outputs": [],
   "source": [
    "\"\"\"\n",
    "method : inplace space complexity O(1) / time complexity O(nlg(n))\n",
    "    1. random shuffle\n",
    "    2. select partition key (k)\n",
    "    3. set two pointers to track begining and end of the array (lo,ho)\n",
    "    4. if a[lo] > a[k] stop increment lo \n",
    "    5. increment ho until a[ho] < a[k] then swap a[lo] , a[ho]\n",
    "    6. run the above process until lo and ho cross each other\n",
    "\"\"\"\n",
    "import random \n",
    "\n",
    "def random_shuffle(int_array):\n",
    "\n",
    "    random_p  = 0\n",
    "    while random_p < len(int_array):\n",
    "\n",
    "        # generate random number to shuffle\n",
    "        rand_shuffle = random.randint( 0,random_p )\n",
    "        # do elemtn shuffle\n",
    "        temp = int_array[random_p]\n",
    "        int_array[random_p] = int_array[rand_shuffle]\n",
    "        int_array[rand_shuffle] = temp \n",
    "\n",
    "        random_p += 1\n",
    "\n",
    "    return int_array\n",
    "\n",
    "\n",
    "def quick_sort(array, lo , ho ):\n",
    "\n",
    "    # do random shuflle\n",
    "    if ( lo >= ho ): return \n",
    "    # set the partiion key and start/end pointers\n",
    "    i , j , k = lo+1 , ho , lo\n",
    "    # before quick sort sub arrays need to complete partition\n",
    "    while i <= j : # iterate until pointers cross\n",
    "        # iterate lo\n",
    "        while ( array[k] > array[i] ): \n",
    "            i += 1\n",
    "            if(i >= ho): break \n",
    "\n",
    "        while( array[k] < array[j] ) : \n",
    "            j -= 1\n",
    "            if(j<=lo): break\n",
    "        \n",
    "        if ( i>= j):\n",
    "            break\n",
    "        temp = array[i]\n",
    "        array[i] = array[j]\n",
    "        array[j] = temp\n",
    "\n",
    "        i +=1 \n",
    "        j -=1\n",
    "\n",
    "    # after pointers crossed do partition key swap\n",
    "    temp = array[j]\n",
    "    array[j] = array[k]\n",
    "    array[k] = temp\n",
    "\n",
    "    # recursive the left and right arrays after parition\n",
    "    quick_sort(array , lo , j-1)\n",
    "    quick_sort(array , j+1 , ho )\n",
    "\n",
    "    return array\n",
    "\n",
    "\n",
    "\n"
   ]
  },
  {
   "cell_type": "code",
   "execution_count": 254,
   "metadata": {},
   "outputs": [
    {
     "data": {
      "text/plain": [
       "[31, 8, 5, 1, 20, 1, 1, 81, 99, 2, 1]"
      ]
     },
     "execution_count": 254,
     "metadata": {},
     "output_type": "execute_result"
    }
   ],
   "source": [
    "shuffled = random_shuffle([1,1,20,5,99,81,31,1,1,2,8])\n",
    "shuffled"
   ]
  },
  {
   "cell_type": "code",
   "execution_count": 255,
   "metadata": {},
   "outputs": [
    {
     "data": {
      "text/plain": [
       "[1, 1, 1, 1, 2, 5, 8, 20, 31, 81, 99]"
      ]
     },
     "execution_count": 255,
     "metadata": {},
     "output_type": "execute_result"
    }
   ],
   "source": [
    "a = quick_sort( shuffled  , 0 , 10 )\n",
    "a"
   ]
  },
  {
   "cell_type": "code",
   "execution_count": null,
   "metadata": {},
   "outputs": [],
   "source": []
  }
 ],
 "metadata": {
  "kernelspec": {
   "display_name": "base",
   "language": "python",
   "name": "python3"
  },
  "language_info": {
   "codemirror_mode": {
    "name": "ipython",
    "version": 3
   },
   "file_extension": ".py",
   "mimetype": "text/x-python",
   "name": "python",
   "nbconvert_exporter": "python",
   "pygments_lexer": "ipython3",
   "version": "3.11.5"
  }
 },
 "nbformat": 4,
 "nbformat_minor": 2
}
