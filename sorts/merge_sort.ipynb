{
 "cells": [
  {
   "cell_type": "markdown",
   "metadata": {},
   "source": [
    "### time complexity O(N*ln(N))"
   ]
  },
  {
   "cell_type": "code",
   "execution_count": 20,
   "metadata": {},
   "outputs": [],
   "source": [
    "def merge(left_array , right_array ):\n",
    "    #define pointers\n",
    "    left_p , right_p , n = 0 , 0 , len(left_array)+ len(right_array)\n",
    "\n",
    "    # check on left array final element vs right element first element\n",
    "    if( left_array[-1] <= right_array[0] ):\n",
    "        result = left_array + right_array\n",
    "    else:\n",
    "        # create array ( python dynamic array's having dynamic resising)\n",
    "        result = []\n",
    "        while  ( len(left_array) > left_p ) and ( len(right_array) > right_p ) :\n",
    "\n",
    "            if( left_array[left_p] < right_array[right_p] ): \n",
    "                result.append(left_array[left_p])\n",
    "                left_p += 1\n",
    "            else:\n",
    "                result.append(right_array[right_p])\n",
    "                right_p += 1\n",
    "        \n",
    "        result += left_array[left_p:]\n",
    "        result += right_array[right_p:]\n",
    "\n",
    "    return result\n",
    "\n",
    "\n",
    "def merge_sort(array):\n",
    "    \"\"\"\n",
    "    flow :\n",
    "        divide the array into two half from middle point \n",
    "            exception : len(array) -> 1 then return array\n",
    "        then recursivly call merge sort with left_array / right_array\n",
    "        merge two sorted left / sorted right array and return\n",
    "    \"\"\"\n",
    "\n",
    "    if len(array) <= 1 : return array \n",
    "\n",
    "    # for too short array's it's not optimal to use the merge sort best is to go with insertion sort\n",
    "\n",
    "    mid = len(array) // 2 \n",
    "    left_sorted = merge_sort(array[:mid])\n",
    "    right_sorted = merge_sort(array[mid:])\n",
    "\n",
    "    # merge two sorted lists\n",
    "    return merge(left_sorted,right_sorted)"
   ]
  },
  {
   "cell_type": "code",
   "execution_count": 21,
   "metadata": {},
   "outputs": [
    {
     "data": {
      "text/plain": [
       "[1, 1, 1, 2, 5, 8, 10, 20, 31, 81, 99]"
      ]
     },
     "execution_count": 21,
     "metadata": {},
     "output_type": "execute_result"
    }
   ],
   "source": [
    "merge_sort([1,10,20,5,99,81,31,1,1,2,8])"
   ]
  },
  {
   "cell_type": "code",
   "execution_count": null,
   "metadata": {},
   "outputs": [],
   "source": []
  }
 ],
 "metadata": {
  "kernelspec": {
   "display_name": "base",
   "language": "python",
   "name": "python3"
  },
  "language_info": {
   "codemirror_mode": {
    "name": "ipython",
    "version": 3
   },
   "file_extension": ".py",
   "mimetype": "text/x-python",
   "name": "python",
   "nbconvert_exporter": "python",
   "pygments_lexer": "ipython3",
   "version": "3.11.5"
  }
 },
 "nbformat": 4,
 "nbformat_minor": 2
}
