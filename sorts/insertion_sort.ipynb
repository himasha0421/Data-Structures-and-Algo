{
 "cells": [
  {
   "cell_type": "markdown",
   "metadata": {},
   "source": [
    "### time complexity O(1/4 * n^2 ) , O(1)"
   ]
  },
  {
   "cell_type": "code",
   "execution_count": 8,
   "metadata": {},
   "outputs": [],
   "source": [
    "def insertion_sort(array):\n",
    "    # iterate over every element\n",
    "    for i in range(len(array)):\n",
    "        for j in range(i , 0 , -1):\n",
    "            if( array[j-1] > array[j] ):\n",
    "                #swap two elements\n",
    "                temp = array[j-1]\n",
    "                array[j-1] = array[j]\n",
    "                array[j] = temp \n",
    "            else:\n",
    "                break \n",
    "    return array\n"
   ]
  },
  {
   "cell_type": "code",
   "execution_count": 9,
   "metadata": {},
   "outputs": [
    {
     "data": {
      "text/plain": [
       "[1, 1, 1, 2, 5, 8, 10, 20, 31, 81, 99]"
      ]
     },
     "execution_count": 9,
     "metadata": {},
     "output_type": "execute_result"
    }
   ],
   "source": [
    "insertion_sort( [1,10,20,5,99,81,31,1,1,2,8] ) "
   ]
  },
  {
   "cell_type": "code",
   "execution_count": null,
   "metadata": {},
   "outputs": [],
   "source": []
  }
 ],
 "metadata": {
  "kernelspec": {
   "display_name": "base",
   "language": "python",
   "name": "python3"
  },
  "language_info": {
   "codemirror_mode": {
    "name": "ipython",
    "version": 3
   },
   "file_extension": ".py",
   "mimetype": "text/x-python",
   "name": "python",
   "nbconvert_exporter": "python",
   "pygments_lexer": "ipython3",
   "version": "3.11.5"
  }
 },
 "nbformat": 4,
 "nbformat_minor": 2
}
