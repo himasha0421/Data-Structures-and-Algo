{
 "cells": [
  {
   "cell_type": "markdown",
   "metadata": {},
   "source": [
    "#### time complexity O(n^2) , space complexity O(n)"
   ]
  },
  {
   "cell_type": "code",
   "execution_count": 4,
   "metadata": {},
   "outputs": [],
   "source": [
    "def selection_sort(array):\n",
    "    \"\"\"\n",
    "    approch iterate over the array starting from index 0\n",
    "        search through the array and find minimum value and swap two elements\n",
    "    \"\"\"\n",
    "    for i in range(len(array)):\n",
    "        min = i\n",
    "        # second scan\n",
    "        for j in range(i+1 , len(array)):\n",
    "            #check on the minumum val\n",
    "            if( array[j] < array[min] ):\n",
    "                min = j\n",
    "        #swap the values\n",
    "        temp_val = array[i]\n",
    "        array[i] = array[min]\n",
    "        array[min] = temp_val\n",
    "\n",
    "    return array"
   ]
  },
  {
   "cell_type": "code",
   "execution_count": 5,
   "metadata": {},
   "outputs": [
    {
     "data": {
      "text/plain": [
       "[1, 1, 1, 2, 5, 8, 10, 20, 31, 81, 99]"
      ]
     },
     "execution_count": 5,
     "metadata": {},
     "output_type": "execute_result"
    }
   ],
   "source": [
    "selection_sort( [1,10,20,5,99,81,31,1,1,2,8] )"
   ]
  },
  {
   "cell_type": "code",
   "execution_count": null,
   "metadata": {},
   "outputs": [],
   "source": []
  }
 ],
 "metadata": {
  "kernelspec": {
   "display_name": "base",
   "language": "python",
   "name": "python3"
  },
  "language_info": {
   "codemirror_mode": {
    "name": "ipython",
    "version": 3
   },
   "file_extension": ".py",
   "mimetype": "text/x-python",
   "name": "python",
   "nbconvert_exporter": "python",
   "pygments_lexer": "ipython3",
   "version": "3.11.5"
  }
 },
 "nbformat": 4,
 "nbformat_minor": 2
}
